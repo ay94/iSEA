{
 "cells": [
  {
   "cell_type": "code",
   "execution_count": 1,
   "metadata": {
    "executionInfo": {
     "elapsed": 5533,
     "status": "ok",
     "timestamp": 1646749871727,
     "user": {
      "displayName": "Jun Yuan",
      "photoUrl": "https://lh3.googleusercontent.com/a-/AOh14GhIntxgfKz0b8Rui-mNJd1XjcuuHGqiXsVIbFH_Ew=s64",
      "userId": "16110568450908833581"
     },
     "user_tz": 300
    },
    "id": "NLfvmBQm4u7g"
   },
   "outputs": [],
   "source": [
    "# Copyright (c) 2022, salesforce.com, inc.\n",
    "# All rights reserved.\n",
    "# SPDX-License-Identifier: BSD-3-Clause\n",
    "# For full license text, see the LICENSE file in the repo root or https://opensource.org/licenses/BSD-3-Clause\n",
    "\n",
    "import pandas as pd\n",
    "import numpy as np\n",
    "\n",
    "import nltk\n",
    "import spacy\n",
    "\n",
    "import os\n",
    "import json\n",
    "\n",
    "import altair as alt"
   ]
  },
  {
   "cell_type": "code",
   "execution_count": 2,
   "metadata": {
    "id": "5R2_EYAB4u7k"
   },
   "outputs": [],
   "source": [
    "df = pd.read_json(\"./mnli_government_travel/doc.jsonl\", lines=False, orient='records')"
   ]
  },
  {
   "cell_type": "code",
   "execution_count": 3,
   "metadata": {
    "id": "p2tvQm254u7k",
    "outputId": "c378361f-45a7-415f-bdbb-b26580ccd2e6"
   },
   "outputs": [
    {
     "data": {
      "text/html": [
       "<div>\n",
       "<style scoped>\n",
       "    .dataframe tbody tr th:only-of-type {\n",
       "        vertical-align: middle;\n",
       "    }\n",
       "\n",
       "    .dataframe tbody tr th {\n",
       "        vertical-align: top;\n",
       "    }\n",
       "\n",
       "    .dataframe thead th {\n",
       "        text-align: right;\n",
       "    }\n",
       "</style>\n",
       "<table border=\"1\" class=\"dataframe\">\n",
       "  <thead>\n",
       "    <tr style=\"text-align: right;\">\n",
       "      <th></th>\n",
       "      <th>sentence1</th>\n",
       "      <th>sentence2</th>\n",
       "      <th>gold_label</th>\n",
       "    </tr>\n",
       "  </thead>\n",
       "  <tbody>\n",
       "    <tr>\n",
       "      <th>0</th>\n",
       "      <td>Calcutta seems to be the only other production...</td>\n",
       "      <td>Most of Mrinal Sen's work can be found in Euro...</td>\n",
       "      <td>neutral</td>\n",
       "    </tr>\n",
       "    <tr>\n",
       "      <th>1</th>\n",
       "      <td>The most important directions are simply up an...</td>\n",
       "      <td>Go downwards to one of the gates, all of which...</td>\n",
       "      <td>contradiction</td>\n",
       "    </tr>\n",
       "    <tr>\n",
       "      <th>2</th>\n",
       "      <td>The bhakti movement of the Tamils brought a ne...</td>\n",
       "      <td>The Tamils' bhakti movement froze the previous...</td>\n",
       "      <td>contradiction</td>\n",
       "    </tr>\n",
       "    <tr>\n",
       "      <th>3</th>\n",
       "      <td>Buffet and a  la carte available.</td>\n",
       "      <td>It has a buffet.</td>\n",
       "      <td>entailment</td>\n",
       "    </tr>\n",
       "    <tr>\n",
       "      <th>4</th>\n",
       "      <td>Not quite as large is the Papal Crose commemor...</td>\n",
       "      <td>Pope John Paul II also visited in 1983.</td>\n",
       "      <td>neutral</td>\n",
       "    </tr>\n",
       "  </tbody>\n",
       "</table>\n",
       "</div>"
      ],
      "text/plain": [
       "                                           sentence1  \\\n",
       "0  Calcutta seems to be the only other production...   \n",
       "1  The most important directions are simply up an...   \n",
       "2  The bhakti movement of the Tamils brought a ne...   \n",
       "3                  Buffet and a  la carte available.   \n",
       "4  Not quite as large is the Papal Crose commemor...   \n",
       "\n",
       "                                           sentence2     gold_label  \n",
       "0  Most of Mrinal Sen's work can be found in Euro...        neutral  \n",
       "1  Go downwards to one of the gates, all of which...  contradiction  \n",
       "2  The Tamils' bhakti movement froze the previous...  contradiction  \n",
       "3                                   It has a buffet.     entailment  \n",
       "4            Pope John Paul II also visited in 1983.        neutral  "
      ]
     },
     "execution_count": 3,
     "metadata": {},
     "output_type": "execute_result"
    }
   ],
   "source": [
    "df.head()"
   ]
  },
  {
   "cell_type": "code",
   "execution_count": 4,
   "metadata": {
    "id": "EicQVzSU4u7l",
    "outputId": "41be3e8a-0202-4c24-b23d-d05b0a11e47d"
   },
   "outputs": [
    {
     "data": {
      "text/plain": [
       "(1976, 3)"
      ]
     },
     "execution_count": 4,
     "metadata": {},
     "output_type": "execute_result"
    }
   ],
   "source": [
    "df.shape"
   ]
  },
  {
   "cell_type": "code",
   "execution_count": 5,
   "metadata": {
    "id": "wJP58hzf4u7m",
    "outputId": "dc5a46b7-7221-49fe-d1de-8da25c5ea672"
   },
   "outputs": [
    {
     "data": {
      "text/html": [
       "<div>\n",
       "<style scoped>\n",
       "    .dataframe tbody tr th:only-of-type {\n",
       "        vertical-align: middle;\n",
       "    }\n",
       "\n",
       "    .dataframe tbody tr th {\n",
       "        vertical-align: top;\n",
       "    }\n",
       "\n",
       "    .dataframe thead th {\n",
       "        text-align: right;\n",
       "    }\n",
       "</style>\n",
       "<table border=\"1\" class=\"dataframe\">\n",
       "  <thead>\n",
       "    <tr style=\"text-align: right;\">\n",
       "      <th></th>\n",
       "      <th>y_pred</th>\n",
       "      <th>y_gt</th>\n",
       "    </tr>\n",
       "  </thead>\n",
       "  <tbody>\n",
       "    <tr>\n",
       "      <th>0</th>\n",
       "      <td>1</td>\n",
       "      <td>1</td>\n",
       "    </tr>\n",
       "    <tr>\n",
       "      <th>1</th>\n",
       "      <td>0</td>\n",
       "      <td>2</td>\n",
       "    </tr>\n",
       "    <tr>\n",
       "      <th>2</th>\n",
       "      <td>2</td>\n",
       "      <td>2</td>\n",
       "    </tr>\n",
       "    <tr>\n",
       "      <th>3</th>\n",
       "      <td>0</td>\n",
       "      <td>0</td>\n",
       "    </tr>\n",
       "    <tr>\n",
       "      <th>4</th>\n",
       "      <td>1</td>\n",
       "      <td>1</td>\n",
       "    </tr>\n",
       "    <tr>\n",
       "      <th>...</th>\n",
       "      <td>...</td>\n",
       "      <td>...</td>\n",
       "    </tr>\n",
       "    <tr>\n",
       "      <th>1971</th>\n",
       "      <td>0</td>\n",
       "      <td>0</td>\n",
       "    </tr>\n",
       "    <tr>\n",
       "      <th>1972</th>\n",
       "      <td>2</td>\n",
       "      <td>1</td>\n",
       "    </tr>\n",
       "    <tr>\n",
       "      <th>1973</th>\n",
       "      <td>0</td>\n",
       "      <td>0</td>\n",
       "    </tr>\n",
       "    <tr>\n",
       "      <th>1974</th>\n",
       "      <td>0</td>\n",
       "      <td>0</td>\n",
       "    </tr>\n",
       "    <tr>\n",
       "      <th>1975</th>\n",
       "      <td>0</td>\n",
       "      <td>0</td>\n",
       "    </tr>\n",
       "  </tbody>\n",
       "</table>\n",
       "<p>1976 rows × 2 columns</p>\n",
       "</div>"
      ],
      "text/plain": [
       "      y_pred  y_gt\n",
       "0          1     1\n",
       "1          0     2\n",
       "2          2     2\n",
       "3          0     0\n",
       "4          1     1\n",
       "...      ...   ...\n",
       "1971       0     0\n",
       "1972       2     1\n",
       "1973       0     0\n",
       "1974       0     0\n",
       "1975       0     0\n",
       "\n",
       "[1976 rows x 2 columns]"
      ]
     },
     "execution_count": 5,
     "metadata": {},
     "output_type": "execute_result"
    }
   ],
   "source": [
    "model_output = pd.read_csv(filepath_or_buffer = \"./mnli_government_travel/model_output.csv\", header = 0)\n",
    "model_output"
   ]
  },
  {
   "cell_type": "code",
   "execution_count": 6,
   "metadata": {
    "id": "K_MR1q3N4u7m"
   },
   "outputs": [],
   "source": [
    "df['y_pred'] = model_output['y_pred'].values\n",
    "df['y_gt'] = model_output['y_gt'].values"
   ]
  },
  {
   "cell_type": "code",
   "execution_count": 7,
   "metadata": {
    "id": "U6FaeOoK4u7n",
    "outputId": "a2ca7c78-4a72-4598-eecb-a48af4f45846"
   },
   "outputs": [
    {
     "data": {
      "text/html": [
       "<div>\n",
       "<style scoped>\n",
       "    .dataframe tbody tr th:only-of-type {\n",
       "        vertical-align: middle;\n",
       "    }\n",
       "\n",
       "    .dataframe tbody tr th {\n",
       "        vertical-align: top;\n",
       "    }\n",
       "\n",
       "    .dataframe thead th {\n",
       "        text-align: right;\n",
       "    }\n",
       "</style>\n",
       "<table border=\"1\" class=\"dataframe\">\n",
       "  <thead>\n",
       "    <tr style=\"text-align: right;\">\n",
       "      <th></th>\n",
       "      <th>sentence1</th>\n",
       "      <th>sentence2</th>\n",
       "      <th>gold_label</th>\n",
       "      <th>y_pred</th>\n",
       "      <th>y_gt</th>\n",
       "    </tr>\n",
       "  </thead>\n",
       "  <tbody>\n",
       "    <tr>\n",
       "      <th>0</th>\n",
       "      <td>Calcutta seems to be the only other production...</td>\n",
       "      <td>Most of Mrinal Sen's work can be found in Euro...</td>\n",
       "      <td>neutral</td>\n",
       "      <td>1</td>\n",
       "      <td>1</td>\n",
       "    </tr>\n",
       "    <tr>\n",
       "      <th>1</th>\n",
       "      <td>The most important directions are simply up an...</td>\n",
       "      <td>Go downwards to one of the gates, all of which...</td>\n",
       "      <td>contradiction</td>\n",
       "      <td>0</td>\n",
       "      <td>2</td>\n",
       "    </tr>\n",
       "    <tr>\n",
       "      <th>2</th>\n",
       "      <td>The bhakti movement of the Tamils brought a ne...</td>\n",
       "      <td>The Tamils' bhakti movement froze the previous...</td>\n",
       "      <td>contradiction</td>\n",
       "      <td>2</td>\n",
       "      <td>2</td>\n",
       "    </tr>\n",
       "    <tr>\n",
       "      <th>3</th>\n",
       "      <td>Buffet and a  la carte available.</td>\n",
       "      <td>It has a buffet.</td>\n",
       "      <td>entailment</td>\n",
       "      <td>0</td>\n",
       "      <td>0</td>\n",
       "    </tr>\n",
       "    <tr>\n",
       "      <th>4</th>\n",
       "      <td>Not quite as large is the Papal Crose commemor...</td>\n",
       "      <td>Pope John Paul II also visited in 1983.</td>\n",
       "      <td>neutral</td>\n",
       "      <td>1</td>\n",
       "      <td>1</td>\n",
       "    </tr>\n",
       "  </tbody>\n",
       "</table>\n",
       "</div>"
      ],
      "text/plain": [
       "                                           sentence1  \\\n",
       "0  Calcutta seems to be the only other production...   \n",
       "1  The most important directions are simply up an...   \n",
       "2  The bhakti movement of the Tamils brought a ne...   \n",
       "3                  Buffet and a  la carte available.   \n",
       "4  Not quite as large is the Papal Crose commemor...   \n",
       "\n",
       "                                           sentence2     gold_label  y_pred  \\\n",
       "0  Most of Mrinal Sen's work can be found in Euro...        neutral       1   \n",
       "1  Go downwards to one of the gates, all of which...  contradiction       0   \n",
       "2  The Tamils' bhakti movement froze the previous...  contradiction       2   \n",
       "3                                   It has a buffet.     entailment       0   \n",
       "4            Pope John Paul II also visited in 1983.        neutral       1   \n",
       "\n",
       "   y_gt  \n",
       "0     1  \n",
       "1     2  \n",
       "2     2  \n",
       "3     0  \n",
       "4     1  "
      ]
     },
     "execution_count": 7,
     "metadata": {},
     "output_type": "execute_result"
    }
   ],
   "source": [
    "df.head()"
   ]
  },
  {
   "cell_type": "code",
   "execution_count": 8,
   "metadata": {
    "id": "svkXaodz4u7n",
    "outputId": "9dc8e570-f18a-4027-de1f-269e2bc8b17a"
   },
   "outputs": [
    {
     "data": {
      "text/plain": [
       "0       0\n",
       "1       1\n",
       "2       0\n",
       "3       0\n",
       "4       0\n",
       "       ..\n",
       "1971    0\n",
       "1972    1\n",
       "1973    0\n",
       "1974    0\n",
       "1975    0\n",
       "Length: 1976, dtype: int64"
      ]
     },
     "execution_count": 8,
     "metadata": {},
     "output_type": "execute_result"
    }
   ],
   "source": [
    "is_error = (df['y_gt'] != df['y_pred']).astype(int)\n",
    "is_error"
   ]
  },
  {
   "cell_type": "code",
   "execution_count": 9,
   "metadata": {
    "id": "yNb_4qaq4u7o",
    "outputId": "58673b97-c4e3-4fc5-fa44-f1fac34fe0a7"
   },
   "outputs": [
    {
     "data": {
      "text/plain": [
       "0.2793522267206478"
      ]
     },
     "execution_count": 9,
     "metadata": {},
     "output_type": "execute_result"
    }
   ],
   "source": [
    "is_error.sum()/is_error.shape[0]"
   ]
  },
  {
   "cell_type": "code",
   "execution_count": 10,
   "metadata": {
    "id": "UTFL10vP4u7o"
   },
   "outputs": [],
   "source": [
    "key_list = ['y_gt', 'y_pred']"
   ]
  },
  {
   "cell_type": "code",
   "execution_count": 11,
   "metadata": {
    "id": "3WEhps774u7p"
   },
   "outputs": [],
   "source": [
    "to_save = {}\n",
    "charts = []\n",
    "for key in key_list:\n",
    "    stat_df = pd.DataFrame()\n",
    "    stat_df[key] = df[key]\n",
    "    stat_df['is_error'] = is_error\n",
    "    to_render = stat_df.groupby([key]).sum().reset_index()\n",
    "    to_render['tot'] = stat_df.groupby([key]).count().reset_index()['is_error']\n",
    "    charts.append(alt.Chart(to_render).mark_bar(opacity=.5).encode(\n",
    "        x= key+':N',\n",
    "        y= 'tot:Q'\n",
    "    )+alt.Chart(to_render).mark_bar().encode(\n",
    "        x= key+':N', \n",
    "        y= 'is_error:Q'\n",
    "    ))\n",
    "    \n",
    "    to_save['by_'+key] = to_render.to_dict(\"index\")"
   ]
  },
  {
   "cell_type": "code",
   "execution_count": 12,
   "metadata": {
    "id": "XcBBkWQZ4u7p",
    "outputId": "e5c77575-6af3-4cf2-efa8-22c7f0804e0e"
   },
   "outputs": [
    {
     "data": {
      "text/html": [
       "\n",
       "<div id=\"altair-viz-af8f3f063aa346dba7b9d1d31c463d28\"></div>\n",
       "<script type=\"text/javascript\">\n",
       "  (function(spec, embedOpt){\n",
       "    let outputDiv = document.currentScript.previousElementSibling;\n",
       "    if (outputDiv.id !== \"altair-viz-af8f3f063aa346dba7b9d1d31c463d28\") {\n",
       "      outputDiv = document.getElementById(\"altair-viz-af8f3f063aa346dba7b9d1d31c463d28\");\n",
       "    }\n",
       "    const paths = {\n",
       "      \"vega\": \"https://cdn.jsdelivr.net/npm//vega@5?noext\",\n",
       "      \"vega-lib\": \"https://cdn.jsdelivr.net/npm//vega-lib?noext\",\n",
       "      \"vega-lite\": \"https://cdn.jsdelivr.net/npm//vega-lite@4.8.1?noext\",\n",
       "      \"vega-embed\": \"https://cdn.jsdelivr.net/npm//vega-embed@6?noext\",\n",
       "    };\n",
       "\n",
       "    function loadScript(lib) {\n",
       "      return new Promise(function(resolve, reject) {\n",
       "        var s = document.createElement('script');\n",
       "        s.src = paths[lib];\n",
       "        s.async = true;\n",
       "        s.onload = () => resolve(paths[lib]);\n",
       "        s.onerror = () => reject(`Error loading script: ${paths[lib]}`);\n",
       "        document.getElementsByTagName(\"head\")[0].appendChild(s);\n",
       "      });\n",
       "    }\n",
       "\n",
       "    function showError(err) {\n",
       "      outputDiv.innerHTML = `<div class=\"error\" style=\"color:red;\">${err}</div>`;\n",
       "      throw err;\n",
       "    }\n",
       "\n",
       "    function displayChart(vegaEmbed) {\n",
       "      vegaEmbed(outputDiv, spec, embedOpt)\n",
       "        .catch(err => showError(`Javascript Error: ${err.message}<br>This usually means there's a typo in your chart specification. See the javascript console for the full traceback.`));\n",
       "    }\n",
       "\n",
       "    if(typeof define === \"function\" && define.amd) {\n",
       "      requirejs.config({paths});\n",
       "      require([\"vega-embed\"], displayChart, err => showError(`Error loading script: ${err.message}`));\n",
       "    } else if (typeof vegaEmbed === \"function\") {\n",
       "      displayChart(vegaEmbed);\n",
       "    } else {\n",
       "      loadScript(\"vega\")\n",
       "        .then(() => loadScript(\"vega-lite\"))\n",
       "        .then(() => loadScript(\"vega-embed\"))\n",
       "        .catch(showError)\n",
       "        .then(() => displayChart(vegaEmbed));\n",
       "    }\n",
       "  })({\"config\": {\"view\": {\"continuousWidth\": 400, \"continuousHeight\": 300}}, \"hconcat\": [{\"layer\": [{\"mark\": {\"type\": \"bar\", \"opacity\": 0.5}, \"encoding\": {\"x\": {\"type\": \"nominal\", \"field\": \"y_gt\"}, \"y\": {\"type\": \"quantitative\", \"field\": \"tot\"}}}, {\"mark\": \"bar\", \"encoding\": {\"x\": {\"type\": \"nominal\", \"field\": \"y_gt\"}, \"y\": {\"type\": \"quantitative\", \"field\": \"is_error\"}}}], \"data\": {\"name\": \"data-1ddd5795af5fc51dd60b8e808c8b1618\"}}, {\"layer\": [{\"mark\": {\"type\": \"bar\", \"opacity\": 0.5}, \"encoding\": {\"x\": {\"type\": \"nominal\", \"field\": \"y_pred\"}, \"y\": {\"type\": \"quantitative\", \"field\": \"tot\"}}}, {\"mark\": \"bar\", \"encoding\": {\"x\": {\"type\": \"nominal\", \"field\": \"y_pred\"}, \"y\": {\"type\": \"quantitative\", \"field\": \"is_error\"}}}], \"data\": {\"name\": \"data-8e9c8996ac4dd833937563832fb81489\"}}], \"resolve\": {\"scale\": {\"y\": \"shared\"}}, \"$schema\": \"https://vega.github.io/schema/vega-lite/v4.8.1.json\", \"datasets\": {\"data-1ddd5795af5fc51dd60b8e808c8b1618\": [{\"y_gt\": 0, \"is_error\": 172, \"tot\": 697}, {\"y_gt\": 1, \"is_error\": 183, \"tot\": 624}, {\"y_gt\": 2, \"is_error\": 197, \"tot\": 655}], \"data-8e9c8996ac4dd833937563832fb81489\": [{\"y_pred\": 0, \"is_error\": 142, \"tot\": 667}, {\"y_pred\": 1, \"is_error\": 210, \"tot\": 651}, {\"y_pred\": 2, \"is_error\": 200, \"tot\": 658}]}}, {\"mode\": \"vega-lite\"});\n",
       "</script>"
      ],
      "text/plain": [
       "alt.HConcatChart(...)"
      ]
     },
     "execution_count": 12,
     "metadata": {},
     "output_type": "execute_result"
    }
   ],
   "source": [
    "alt.hconcat(charts[0],charts[1]).resolve_scale(\n",
    "    y='shared'\n",
    ")"
   ]
  },
  {
   "cell_type": "code",
   "execution_count": 13,
   "metadata": {
    "id": "WZkOLCn_4u7q"
   },
   "outputs": [],
   "source": [
    "'''save to file'''\n",
    "with open(\"./mnli_government_travel/model_stat.json\", \"w\") as json_output:\n",
    "    json_output.write(json.dumps(to_save))"
   ]
  },
  {
   "cell_type": "markdown",
   "metadata": {
    "id": "Uh8wY1E84u7q"
   },
   "source": [
    "## Extract high-level features:  percentage of noun/adj/adv/verb/num/pron."
   ]
  },
  {
   "cell_type": "code",
   "execution_count": null,
   "metadata": {
    "id": "xeUTqXiw4u7r",
    "outputId": "a388e59f-1846-4b1a-fe9b-5dbd7ab070f2"
   },
   "outputs": [],
   "source": [
    "'''tokenization'''\n",
    "from gensim.utils import simple_preprocess\n",
    "\n",
    "data_word_list = [simple_preprocess(x['sentence1']+\" <S> \"+x['sentence2']) for i,x in df.iterrows()]"
   ]
  },
  {
   "cell_type": "code",
   "execution_count": 15,
   "metadata": {
    "id": "FJ_NtJ1S4u7s"
   },
   "outputs": [],
   "source": [
    "premise = [x['sentence1'] for i,x in df.iterrows()]\n",
    "hypothesis = [x['sentence2'] for i,x in df.iterrows()]"
   ]
  },
  {
   "cell_type": "code",
   "execution_count": 16,
   "metadata": {
    "id": "XGxvhSWp4u7s"
   },
   "outputs": [],
   "source": [
    "nlp = spacy.load('en_core_web_sm')\n",
    "pssage_ready = []\n",
    "\n",
    "for sent in data_word_list:\n",
    "    # Parse the sentence using the loaded 'en' model object `nlp`. Extract the lemma for each token and join\n",
    "    doc = nlp(\" \".join(sent))\n",
    "    pssage_ready.append([token.pos_ for token in doc])\n",
    "    "
   ]
  },
  {
   "cell_type": "code",
   "execution_count": 17,
   "metadata": {
    "id": "uBL2im-q4u7s"
   },
   "outputs": [],
   "source": [
    "p_count = np.unique(pd.DataFrame(pssage_ready)[0], return_counts=True)"
   ]
  },
  {
   "cell_type": "code",
   "execution_count": 18,
   "metadata": {
    "id": "LsEvnI0X4u7t"
   },
   "outputs": [],
   "source": [
    "allowed_postags=['ADJ', 'ADV', 'NOUN', 'NUM', 'VERB', 'PRON']\n"
   ]
  },
  {
   "cell_type": "code",
   "execution_count": 19,
   "metadata": {
    "id": "5vZFlh_04u7t",
    "outputId": "a53e8722-63b2-412b-a88b-a97ede880ecd"
   },
   "outputs": [
    {
     "data": {
      "text/plain": [
       "(array(['ADJ', 'ADP', 'ADV', 'AUX', 'CCONJ', 'DET', 'NOUN', 'NUM', 'PRON',\n",
       "        'VERB'], dtype='<U5'),\n",
       " array([3, 9, 8, 2, 3, 9, 8, 3, 1, 5]))"
      ]
     },
     "execution_count": 19,
     "metadata": {},
     "output_type": "execute_result"
    }
   ],
   "source": [
    "np.unique(pssage_ready[1], return_counts=True) "
   ]
  },
  {
   "cell_type": "code",
   "execution_count": 20,
   "metadata": {
    "id": "hsXWy_x_4u7u"
   },
   "outputs": [],
   "source": [
    "word_type_dict = {}\n",
    "word_type_dlist = []\n",
    "\n",
    "for i in range(len(pssage_ready)):\n",
    "    p_count = np.unique(pssage_ready[i], return_counts=True)\n",
    "    word_type_dict = {}\n",
    "    for ix, word in enumerate(p_count[0]):\n",
    "        if word in allowed_postags:\n",
    "            word_type_dict[word] = p_count[1][ix]/len(pssage_ready[i])\n",
    "    word_type_dlist.append(word_type_dict)  "
   ]
  },
  {
   "cell_type": "code",
   "execution_count": 21,
   "metadata": {
    "id": "t1XbxDjH4u7u",
    "outputId": "6623472c-aa3c-4f3e-e84e-03c3aee856fb"
   },
   "outputs": [
    {
     "data": {
      "text/html": [
       "<div>\n",
       "<style scoped>\n",
       "    .dataframe tbody tr th:only-of-type {\n",
       "        vertical-align: middle;\n",
       "    }\n",
       "\n",
       "    .dataframe tbody tr th {\n",
       "        vertical-align: top;\n",
       "    }\n",
       "\n",
       "    .dataframe thead th {\n",
       "        text-align: right;\n",
       "    }\n",
       "</style>\n",
       "<table border=\"1\" class=\"dataframe\">\n",
       "  <thead>\n",
       "    <tr style=\"text-align: right;\">\n",
       "      <th></th>\n",
       "      <th>ADJ</th>\n",
       "      <th>ADV</th>\n",
       "      <th>NOUN</th>\n",
       "      <th>PRON</th>\n",
       "      <th>VERB</th>\n",
       "      <th>NUM</th>\n",
       "    </tr>\n",
       "  </thead>\n",
       "  <tbody>\n",
       "    <tr>\n",
       "      <th>0</th>\n",
       "      <td>0.145455</td>\n",
       "      <td>0.090909</td>\n",
       "      <td>0.163636</td>\n",
       "      <td>0.036364</td>\n",
       "      <td>0.127273</td>\n",
       "      <td>NaN</td>\n",
       "    </tr>\n",
       "    <tr>\n",
       "      <th>1</th>\n",
       "      <td>0.058824</td>\n",
       "      <td>0.156863</td>\n",
       "      <td>0.156863</td>\n",
       "      <td>0.019608</td>\n",
       "      <td>0.098039</td>\n",
       "      <td>0.058824</td>\n",
       "    </tr>\n",
       "    <tr>\n",
       "      <th>2</th>\n",
       "      <td>0.178571</td>\n",
       "      <td>0.035714</td>\n",
       "      <td>0.392857</td>\n",
       "      <td>NaN</td>\n",
       "      <td>0.071429</td>\n",
       "      <td>NaN</td>\n",
       "    </tr>\n",
       "    <tr>\n",
       "      <th>3</th>\n",
       "      <td>0.125000</td>\n",
       "      <td>NaN</td>\n",
       "      <td>0.250000</td>\n",
       "      <td>0.125000</td>\n",
       "      <td>NaN</td>\n",
       "      <td>NaN</td>\n",
       "    </tr>\n",
       "    <tr>\n",
       "      <th>4</th>\n",
       "      <td>0.093750</td>\n",
       "      <td>0.125000</td>\n",
       "      <td>0.062500</td>\n",
       "      <td>NaN</td>\n",
       "      <td>0.156250</td>\n",
       "      <td>0.062500</td>\n",
       "    </tr>\n",
       "    <tr>\n",
       "      <th>...</th>\n",
       "      <td>...</td>\n",
       "      <td>...</td>\n",
       "      <td>...</td>\n",
       "      <td>...</td>\n",
       "      <td>...</td>\n",
       "      <td>...</td>\n",
       "    </tr>\n",
       "    <tr>\n",
       "      <th>1971</th>\n",
       "      <td>NaN</td>\n",
       "      <td>0.090909</td>\n",
       "      <td>0.363636</td>\n",
       "      <td>0.045455</td>\n",
       "      <td>0.090909</td>\n",
       "      <td>NaN</td>\n",
       "    </tr>\n",
       "    <tr>\n",
       "      <th>1972</th>\n",
       "      <td>0.250000</td>\n",
       "      <td>NaN</td>\n",
       "      <td>0.500000</td>\n",
       "      <td>NaN</td>\n",
       "      <td>0.250000</td>\n",
       "      <td>NaN</td>\n",
       "    </tr>\n",
       "    <tr>\n",
       "      <th>1973</th>\n",
       "      <td>0.105263</td>\n",
       "      <td>NaN</td>\n",
       "      <td>0.368421</td>\n",
       "      <td>NaN</td>\n",
       "      <td>0.157895</td>\n",
       "      <td>NaN</td>\n",
       "    </tr>\n",
       "    <tr>\n",
       "      <th>1974</th>\n",
       "      <td>NaN</td>\n",
       "      <td>0.055556</td>\n",
       "      <td>0.166667</td>\n",
       "      <td>NaN</td>\n",
       "      <td>0.166667</td>\n",
       "      <td>NaN</td>\n",
       "    </tr>\n",
       "    <tr>\n",
       "      <th>1975</th>\n",
       "      <td>0.166667</td>\n",
       "      <td>NaN</td>\n",
       "      <td>0.433333</td>\n",
       "      <td>NaN</td>\n",
       "      <td>0.033333</td>\n",
       "      <td>0.066667</td>\n",
       "    </tr>\n",
       "  </tbody>\n",
       "</table>\n",
       "<p>1976 rows × 6 columns</p>\n",
       "</div>"
      ],
      "text/plain": [
       "           ADJ       ADV      NOUN      PRON      VERB       NUM\n",
       "0     0.145455  0.090909  0.163636  0.036364  0.127273       NaN\n",
       "1     0.058824  0.156863  0.156863  0.019608  0.098039  0.058824\n",
       "2     0.178571  0.035714  0.392857       NaN  0.071429       NaN\n",
       "3     0.125000       NaN  0.250000  0.125000       NaN       NaN\n",
       "4     0.093750  0.125000  0.062500       NaN  0.156250  0.062500\n",
       "...        ...       ...       ...       ...       ...       ...\n",
       "1971       NaN  0.090909  0.363636  0.045455  0.090909       NaN\n",
       "1972  0.250000       NaN  0.500000       NaN  0.250000       NaN\n",
       "1973  0.105263       NaN  0.368421       NaN  0.157895       NaN\n",
       "1974       NaN  0.055556  0.166667       NaN  0.166667       NaN\n",
       "1975  0.166667       NaN  0.433333       NaN  0.033333  0.066667\n",
       "\n",
       "[1976 rows x 6 columns]"
      ]
     },
     "execution_count": 21,
     "metadata": {},
     "output_type": "execute_result"
    }
   ],
   "source": [
    "pd.DataFrame(word_type_dlist)"
   ]
  },
  {
   "cell_type": "code",
   "execution_count": 22,
   "metadata": {
    "id": "NqVGJ4we4u7u",
    "outputId": "62aeb0d3-06fb-483c-e9e7-e67efc235af2"
   },
   "outputs": [
    {
     "data": {
      "text/html": [
       "<div>\n",
       "<style scoped>\n",
       "    .dataframe tbody tr th:only-of-type {\n",
       "        vertical-align: middle;\n",
       "    }\n",
       "\n",
       "    .dataframe tbody tr th {\n",
       "        vertical-align: top;\n",
       "    }\n",
       "\n",
       "    .dataframe thead th {\n",
       "        text-align: right;\n",
       "    }\n",
       "</style>\n",
       "<table border=\"1\" class=\"dataframe\">\n",
       "  <thead>\n",
       "    <tr style=\"text-align: right;\">\n",
       "      <th></th>\n",
       "      <th>ADJ</th>\n",
       "      <th>ADV</th>\n",
       "      <th>NOUN</th>\n",
       "      <th>PRON</th>\n",
       "      <th>VERB</th>\n",
       "      <th>NUM</th>\n",
       "    </tr>\n",
       "  </thead>\n",
       "  <tbody>\n",
       "    <tr>\n",
       "      <th>0</th>\n",
       "      <td>0.145455</td>\n",
       "      <td>0.090909</td>\n",
       "      <td>0.163636</td>\n",
       "      <td>0.036364</td>\n",
       "      <td>0.127273</td>\n",
       "      <td>0.000000</td>\n",
       "    </tr>\n",
       "    <tr>\n",
       "      <th>1</th>\n",
       "      <td>0.058824</td>\n",
       "      <td>0.156863</td>\n",
       "      <td>0.156863</td>\n",
       "      <td>0.019608</td>\n",
       "      <td>0.098039</td>\n",
       "      <td>0.058824</td>\n",
       "    </tr>\n",
       "    <tr>\n",
       "      <th>2</th>\n",
       "      <td>0.178571</td>\n",
       "      <td>0.035714</td>\n",
       "      <td>0.392857</td>\n",
       "      <td>0.000000</td>\n",
       "      <td>0.071429</td>\n",
       "      <td>0.000000</td>\n",
       "    </tr>\n",
       "    <tr>\n",
       "      <th>3</th>\n",
       "      <td>0.125000</td>\n",
       "      <td>0.000000</td>\n",
       "      <td>0.250000</td>\n",
       "      <td>0.125000</td>\n",
       "      <td>0.000000</td>\n",
       "      <td>0.000000</td>\n",
       "    </tr>\n",
       "    <tr>\n",
       "      <th>4</th>\n",
       "      <td>0.093750</td>\n",
       "      <td>0.125000</td>\n",
       "      <td>0.062500</td>\n",
       "      <td>0.000000</td>\n",
       "      <td>0.156250</td>\n",
       "      <td>0.062500</td>\n",
       "    </tr>\n",
       "  </tbody>\n",
       "</table>\n",
       "</div>"
      ],
      "text/plain": [
       "        ADJ       ADV      NOUN      PRON      VERB       NUM\n",
       "0  0.145455  0.090909  0.163636  0.036364  0.127273  0.000000\n",
       "1  0.058824  0.156863  0.156863  0.019608  0.098039  0.058824\n",
       "2  0.178571  0.035714  0.392857  0.000000  0.071429  0.000000\n",
       "3  0.125000  0.000000  0.250000  0.125000  0.000000  0.000000\n",
       "4  0.093750  0.125000  0.062500  0.000000  0.156250  0.062500"
      ]
     },
     "execution_count": 22,
     "metadata": {},
     "output_type": "execute_result"
    }
   ],
   "source": [
    "doc_pos_df = pd.DataFrame(word_type_dlist).fillna(0)\n",
    "doc_pos_df.head()"
   ]
  },
  {
   "cell_type": "markdown",
   "metadata": {
    "id": "sfnf7px14u7v"
   },
   "source": [
    "## Extract high-level features: document length, overlap extent"
   ]
  },
  {
   "cell_type": "code",
   "execution_count": 23,
   "metadata": {
    "id": "uTRsEdaW4u7v"
   },
   "outputs": [],
   "source": [
    "from collections import Counter\n",
    "\n",
    "def get_overlapping_rate(list1, list2):\n",
    "    overlap = len(list((Counter(list1) & Counter(list2)).elements()))\n",
    "    tot = np.min([len(list1), len(list2)])\n",
    "    return overlap/tot"
   ]
  },
  {
   "cell_type": "code",
   "execution_count": 24,
   "metadata": {
    "id": "-9L2VpU24u7v"
   },
   "outputs": [],
   "source": [
    "overlap_rate = []\n",
    "doc_len = []\n",
    "for i in range(len(data_word_list)):\n",
    "    doc_len.append(len(data_word_list[i]))\n",
    "    overlap_rate.append(get_overlapping_rate(premise[i], hypothesis[i]))\n"
   ]
  },
  {
   "cell_type": "code",
   "execution_count": 25,
   "metadata": {
    "id": "hxSBfdYb4u7v",
    "outputId": "f20ac49f-bded-4b15-8810-e0ca814fba99"
   },
   "outputs": [
    {
     "data": {
      "text/html": [
       "<div>\n",
       "<style scoped>\n",
       "    .dataframe tbody tr th:only-of-type {\n",
       "        vertical-align: middle;\n",
       "    }\n",
       "\n",
       "    .dataframe tbody tr th {\n",
       "        vertical-align: top;\n",
       "    }\n",
       "\n",
       "    .dataframe thead th {\n",
       "        text-align: right;\n",
       "    }\n",
       "</style>\n",
       "<table border=\"1\" class=\"dataframe\">\n",
       "  <thead>\n",
       "    <tr style=\"text-align: right;\">\n",
       "      <th></th>\n",
       "      <th>ADJ</th>\n",
       "      <th>ADV</th>\n",
       "      <th>NOUN</th>\n",
       "      <th>PRON</th>\n",
       "      <th>VERB</th>\n",
       "      <th>NUM</th>\n",
       "      <th>doc_len</th>\n",
       "      <th>overlap</th>\n",
       "      <th>pred</th>\n",
       "    </tr>\n",
       "  </thead>\n",
       "  <tbody>\n",
       "    <tr>\n",
       "      <th>0</th>\n",
       "      <td>0.145455</td>\n",
       "      <td>0.090909</td>\n",
       "      <td>0.163636</td>\n",
       "      <td>0.036364</td>\n",
       "      <td>0.127273</td>\n",
       "      <td>0.000000</td>\n",
       "      <td>55</td>\n",
       "      <td>0.984127</td>\n",
       "      <td>1</td>\n",
       "    </tr>\n",
       "    <tr>\n",
       "      <th>1</th>\n",
       "      <td>0.058824</td>\n",
       "      <td>0.156863</td>\n",
       "      <td>0.156863</td>\n",
       "      <td>0.019608</td>\n",
       "      <td>0.098039</td>\n",
       "      <td>0.058824</td>\n",
       "      <td>51</td>\n",
       "      <td>0.987500</td>\n",
       "      <td>0</td>\n",
       "    </tr>\n",
       "    <tr>\n",
       "      <th>2</th>\n",
       "      <td>0.178571</td>\n",
       "      <td>0.035714</td>\n",
       "      <td>0.392857</td>\n",
       "      <td>0.000000</td>\n",
       "      <td>0.071429</td>\n",
       "      <td>0.000000</td>\n",
       "      <td>28</td>\n",
       "      <td>0.904110</td>\n",
       "      <td>2</td>\n",
       "    </tr>\n",
       "    <tr>\n",
       "      <th>3</th>\n",
       "      <td>0.125000</td>\n",
       "      <td>0.000000</td>\n",
       "      <td>0.250000</td>\n",
       "      <td>0.125000</td>\n",
       "      <td>0.000000</td>\n",
       "      <td>0.000000</td>\n",
       "      <td>8</td>\n",
       "      <td>0.812500</td>\n",
       "      <td>0</td>\n",
       "    </tr>\n",
       "    <tr>\n",
       "      <th>4</th>\n",
       "      <td>0.093750</td>\n",
       "      <td>0.125000</td>\n",
       "      <td>0.062500</td>\n",
       "      <td>0.000000</td>\n",
       "      <td>0.156250</td>\n",
       "      <td>0.062500</td>\n",
       "      <td>32</td>\n",
       "      <td>0.948718</td>\n",
       "      <td>1</td>\n",
       "    </tr>\n",
       "  </tbody>\n",
       "</table>\n",
       "</div>"
      ],
      "text/plain": [
       "        ADJ       ADV      NOUN      PRON      VERB       NUM  doc_len  \\\n",
       "0  0.145455  0.090909  0.163636  0.036364  0.127273  0.000000       55   \n",
       "1  0.058824  0.156863  0.156863  0.019608  0.098039  0.058824       51   \n",
       "2  0.178571  0.035714  0.392857  0.000000  0.071429  0.000000       28   \n",
       "3  0.125000  0.000000  0.250000  0.125000  0.000000  0.000000        8   \n",
       "4  0.093750  0.125000  0.062500  0.000000  0.156250  0.062500       32   \n",
       "\n",
       "    overlap  pred  \n",
       "0  0.984127     1  \n",
       "1  0.987500     0  \n",
       "2  0.904110     2  \n",
       "3  0.812500     0  \n",
       "4  0.948718     1  "
      ]
     },
     "execution_count": 25,
     "metadata": {},
     "output_type": "execute_result"
    }
   ],
   "source": [
    "hfeat_df = pd.DataFrame(word_type_dlist).fillna(0)\n",
    "hfeat_df['doc_len'] = doc_len\n",
    "hfeat_df['overlap'] = overlap_rate\n",
    "hfeat_df['pred'] = df['y_pred']\n",
    "\n",
    "# use either pred or ground truth for rule generation\n",
    "# hfeat_df['label'] = df['y_gt']\n",
    "\n",
    "hfeat_df.head()"
   ]
  },
  {
   "cell_type": "code",
   "execution_count": 26,
   "metadata": {
    "id": "Co-2xQxh4u7w",
    "outputId": "9cef46d8-7c2a-4701-8c9c-94c7ddca766c"
   },
   "outputs": [
    {
     "data": {
      "text/plain": [
       "Index(['ADJ', 'ADV', 'NOUN', 'PRON', 'VERB', 'NUM', 'doc_len', 'overlap',\n",
       "       'pred'],\n",
       "      dtype='object')"
      ]
     },
     "execution_count": 26,
     "metadata": {},
     "output_type": "execute_result"
    }
   ],
   "source": [
    "hfeat_df.columns"
   ]
  },
  {
   "cell_type": "markdown",
   "metadata": {
    "id": "uL2YQFju4u7w"
   },
   "source": [
    "## Rule Extraction\n",
    "features:\n",
    "- doc length\n",
    "- q/a overlapping\n",
    "- pos tagging percentage\n",
    "- labels\n",
    "- model predictions\n",
    "\n",
    "features may be included for other tasks/models/data:\n",
    "- qtype"
   ]
  },
  {
   "cell_type": "code",
   "execution_count": 27,
   "metadata": {
    "id": "Htk7hcRE4u7w",
    "outputId": "bab639ad-173e-4610-e1c0-33f90e611561"
   },
   "outputs": [
    {
     "data": {
      "text/plain": [
       "array([0, 1, 0, ..., 0, 0, 0])"
      ]
     },
     "execution_count": 27,
     "metadata": {},
     "output_type": "execute_result"
    }
   ],
   "source": [
    "is_error.values"
   ]
  },
  {
   "cell_type": "code",
   "execution_count": 28,
   "metadata": {
    "id": "XJkg3mXK4u7w",
    "outputId": "b7dee47a-abfb-4577-f4a2-e7ce7952eafd"
   },
   "outputs": [
    {
     "data": {
      "text/plain": [
       "(array([0, 1]), array([1424,  552]))"
      ]
     },
     "execution_count": 28,
     "metadata": {},
     "output_type": "execute_result"
    }
   ],
   "source": [
    "np.unique(is_error, return_counts=True)"
   ]
  },
  {
   "cell_type": "code",
   "execution_count": 29,
   "metadata": {
    "id": "COCJzyAR4u7w"
   },
   "outputs": [],
   "source": [
    "def output_rules(to_output, columns, thresholds, dataname):\n",
    "    filename = \"./\" + dataname + \"/list.json\"\n",
    "    directory = os.path.dirname(filename)\n",
    "    if not os.path.exists(directory):\n",
    "        os.makedirs(directory)\n",
    "    \n",
    "    with open(filename, 'w') as output:\n",
    "        output.write(json.dumps(to_output))\n",
    "        \n",
    "    filename = \"./\" + dataname + \"/test.json\"\n",
    "    '''get column frequency'''\n",
    "\n",
    "    with open(filename, 'w') as output:\n",
    "        output.write(json.dumps({\n",
    "            'columns': columns,\n",
    "            'thresholds': thresholds,\n",
    "        }))"
   ]
  },
  {
   "cell_type": "code",
   "execution_count": 30,
   "metadata": {
    "id": "gW1hhFlo4u7x"
   },
   "outputs": [],
   "source": [
    "import debug_rule"
   ]
  },
  {
   "cell_type": "code",
   "execution_count": null,
   "metadata": {
    "id": "h03Ek-6_4u7x",
    "outputId": "b9f39f4a-5906-4369-8595-4f5166279bde"
   },
   "outputs": [],
   "source": [
    "filter_threshold = {\n",
    "    'support': 20,\n",
    "    'err_rate': .27,\n",
    "}\n",
    "\n",
    "drule_obj = debug_rule.DebugRule()\n",
    "\n",
    "drule_obj.initialize(hfeat_df.values, is_error.values, filter_threshold, verbose=True)\\\n",
    ".numerical2ordinal().extract_high_level_rule()"
   ]
  },
  {
   "cell_type": "code",
   "execution_count": 32,
   "metadata": {
    "id": "LaWr9PGZ4u7x",
    "outputId": "99e51274-3903-452f-fd96-9aaf7849715a"
   },
   "outputs": [
    {
     "data": {
      "text/plain": [
       "(1976, 9)"
      ]
     },
     "execution_count": 32,
     "metadata": {},
     "output_type": "execute_result"
    }
   ],
   "source": [
    "hfeat_df.values.shape"
   ]
  },
  {
   "cell_type": "code",
   "execution_count": 33,
   "metadata": {
    "id": "_8RVMsbh4u7x"
   },
   "outputs": [],
   "source": [
    "drule_obj.calculate_pval()\n",
    "drule_obj.calculate_ci()"
   ]
  },
  {
   "cell_type": "code",
   "execution_count": 34,
   "metadata": {
    "id": "b47DKvfW4u7x"
   },
   "outputs": [],
   "source": [
    "def generate_histogram(rule_lists):\n",
    "    num_bin = 20\n",
    "        \n",
    "    hist = np.zeros(num_bin)\n",
    "    for rule in rule_lists:\n",
    "        pos_bin = int(np.floor(rule['err_rate'] * num_bin))\n",
    "        if (pos_bin==num_bin):\n",
    "            pos_bin = num_bin-1\n",
    "        hist[pos_bin] += 1\n",
    "    return hist\n",
    "\n",
    "to_output = {'rule_lists': drule_obj.rules, 'target_names': ['correct', 'errors'], \"top_list\": drule_obj.top_hfeat_list}\n",
    "hist = generate_histogram(drule_obj.rules)\n",
    "\n",
    "to_output['histogram'] = hist.tolist()\n",
    "\n",
    "output_rules(to_output, hfeat_df.columns.tolist(), drule_obj.thresholds.tolist(), 'mnli_government_travel_hfeat')"
   ]
  },
  {
   "cell_type": "code",
   "execution_count": 35,
   "metadata": {
    "id": "QfOwmxk44u7x"
   },
   "outputs": [],
   "source": [
    "ordinal_df = pd.DataFrame(data=drule_obj.all, columns=hfeat_df.columns)\n",
    "\n",
    "# add y_label (ground truth)\n",
    "ordinal_df['label'] = model_output['y_gt']\n",
    "\n",
    "# save to disk\n",
    "ordinal_df.to_csv(path_or_buf=\"./mnli_government_travel/hfeat_stat.csv\", index=None)"
   ]
  }
 ],
 "metadata": {
  "colab": {
   "name": "04-high_level_feat.ipynb",
   "provenance": []
  },
  "kernelspec": {
   "display_name": "Python 3",
   "language": "python",
   "name": "python3"
  },
  "language_info": {
   "codemirror_mode": {
    "name": "ipython",
    "version": 3
   },
   "file_extension": ".py",
   "mimetype": "text/x-python",
   "name": "python",
   "nbconvert_exporter": "python",
   "pygments_lexer": "ipython3",
   "version": "3.8.3"
  }
 },
 "nbformat": 4,
 "nbformat_minor": 5
}
