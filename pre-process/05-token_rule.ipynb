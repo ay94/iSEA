{
 "cells": [
  {
   "cell_type": "code",
   "execution_count": 1,
   "metadata": {},
   "outputs": [],
   "source": [
    "# Copyright (c) 2022, salesforce.com, inc.\n",
    "# All rights reserved.\n",
    "# SPDX-License-Identifier: BSD-3-Clause\n",
    "# For full license text, see the LICENSE file in the repo root or https://opensource.org/licenses/BSD-3-Clause\n",
    "\n",
    "import pandas as pd\n",
    "import numpy as np\n",
    "import os\n",
    "import json\n",
    "\n",
    "from scipy import sparse"
   ]
  },
  {
   "cell_type": "markdown",
   "metadata": {},
   "source": [
    "## Read processed documents"
   ]
  },
  {
   "cell_type": "code",
   "execution_count": 2,
   "metadata": {},
   "outputs": [],
   "source": [
    "loaded = sparse.load_npz(\"./mnli_government_travel/corpus_mat.npz\")"
   ]
  },
  {
   "cell_type": "code",
   "execution_count": 3,
   "metadata": {},
   "outputs": [
    {
     "data": {
      "text/plain": [
       "array([[1, 1, 1, ..., 0, 0, 0],\n",
       "       [0, 1, 0, ..., 0, 0, 0],\n",
       "       [0, 0, 0, ..., 0, 0, 0],\n",
       "       ...,\n",
       "       [0, 0, 0, ..., 0, 0, 0],\n",
       "       [0, 0, 0, ..., 0, 0, 0],\n",
       "       [0, 0, 0, ..., 0, 0, 0]])"
      ]
     },
     "execution_count": 3,
     "metadata": {},
     "output_type": "execute_result"
    }
   ],
   "source": [
    "loaded.toarray()"
   ]
  },
  {
   "cell_type": "code",
   "execution_count": 4,
   "metadata": {},
   "outputs": [
    {
     "data": {
      "text/plain": [
       "(1976, 2459)"
      ]
     },
     "execution_count": 4,
     "metadata": {},
     "output_type": "execute_result"
    }
   ],
   "source": [
    "loaded.shape"
   ]
  },
  {
   "cell_type": "code",
   "execution_count": 5,
   "metadata": {},
   "outputs": [],
   "source": [
    "corpus_binary_dense = loaded.toarray()"
   ]
  },
  {
   "cell_type": "code",
   "execution_count": 6,
   "metadata": {},
   "outputs": [],
   "source": [
    "with open('./mnli_government_travel/input_columns.json', 'r') as json_input:\n",
    "    data = json.load(json_input)\n",
    "    \n",
    "input_columns = data['input_columns']"
   ]
  },
  {
   "cell_type": "markdown",
   "metadata": {},
   "source": [
    "## Rule Generation"
   ]
  },
  {
   "cell_type": "code",
   "execution_count": 7,
   "metadata": {},
   "outputs": [
    {
     "data": {
      "text/html": [
       "<div>\n",
       "<style scoped>\n",
       "    .dataframe tbody tr th:only-of-type {\n",
       "        vertical-align: middle;\n",
       "    }\n",
       "\n",
       "    .dataframe tbody tr th {\n",
       "        vertical-align: top;\n",
       "    }\n",
       "\n",
       "    .dataframe thead th {\n",
       "        text-align: right;\n",
       "    }\n",
       "</style>\n",
       "<table border=\"1\" class=\"dataframe\">\n",
       "  <thead>\n",
       "    <tr style=\"text-align: right;\">\n",
       "      <th></th>\n",
       "      <th>y_pred</th>\n",
       "      <th>y_gt</th>\n",
       "    </tr>\n",
       "  </thead>\n",
       "  <tbody>\n",
       "    <tr>\n",
       "      <th>0</th>\n",
       "      <td>1</td>\n",
       "      <td>1</td>\n",
       "    </tr>\n",
       "    <tr>\n",
       "      <th>1</th>\n",
       "      <td>0</td>\n",
       "      <td>2</td>\n",
       "    </tr>\n",
       "    <tr>\n",
       "      <th>2</th>\n",
       "      <td>2</td>\n",
       "      <td>2</td>\n",
       "    </tr>\n",
       "    <tr>\n",
       "      <th>3</th>\n",
       "      <td>0</td>\n",
       "      <td>0</td>\n",
       "    </tr>\n",
       "    <tr>\n",
       "      <th>4</th>\n",
       "      <td>1</td>\n",
       "      <td>1</td>\n",
       "    </tr>\n",
       "  </tbody>\n",
       "</table>\n",
       "</div>"
      ],
      "text/plain": [
       "   y_pred  y_gt\n",
       "0       1     1\n",
       "1       0     2\n",
       "2       2     2\n",
       "3       0     0\n",
       "4       1     1"
      ]
     },
     "execution_count": 7,
     "metadata": {},
     "output_type": "execute_result"
    }
   ],
   "source": [
    "'''get BERT model prediction and ground truth'''\n",
    "model_output = pd.read_csv(filepath_or_buffer=\"./mnli_government_travel/model_output.csv\")\n",
    "model_output.head()"
   ]
  },
  {
   "cell_type": "code",
   "execution_count": 8,
   "metadata": {},
   "outputs": [],
   "source": [
    "is_error = np.array(model_output['y_gt'] != model_output['y_pred']).astype(int)\n",
    "model_output['is_error'] = is_error"
   ]
  },
  {
   "cell_type": "code",
   "execution_count": 9,
   "metadata": {},
   "outputs": [
    {
     "data": {
      "text/plain": [
       "(array([0, 1]), array([1424,  552]))"
      ]
     },
     "execution_count": 9,
     "metadata": {},
     "output_type": "execute_result"
    }
   ],
   "source": [
    "np.unique(is_error, return_counts=True)"
   ]
  },
  {
   "cell_type": "code",
   "execution_count": 10,
   "metadata": {},
   "outputs": [
    {
     "data": {
      "text/plain": [
       "(1976, 2459)"
      ]
     },
     "execution_count": 10,
     "metadata": {},
     "output_type": "execute_result"
    }
   ],
   "source": [
    "corpus_binary_dense.shape"
   ]
  },
  {
   "cell_type": "code",
   "execution_count": 11,
   "metadata": {},
   "outputs": [],
   "source": [
    "import debug_rule"
   ]
  },
  {
   "cell_type": "code",
   "execution_count": 12,
   "metadata": {},
   "outputs": [
    {
     "name": "stdout",
     "output_type": "stream",
     "text": [
      "***** finish training surrogate random forest *****\n"
     ]
    },
    {
     "data": {
      "text/plain": [
       "<debug_rule.DebugRule at 0x7fcdb800a640>"
      ]
     },
     "execution_count": 12,
     "metadata": {},
     "output_type": "execute_result"
    }
   ],
   "source": [
    "filter_threshold = {\n",
    "    'support': 20,\n",
    "    'err_rate': .27,\n",
    "}\n",
    "\n",
    "drule_obj = debug_rule.DebugRule()\n",
    "\n",
    "drule_obj.initialize(corpus_binary_dense, is_error, filter_threshold, verbose=True).train_surrogate_random_forest()"
   ]
  },
  {
   "cell_type": "code",
   "execution_count": 13,
   "metadata": {},
   "outputs": [
    {
     "name": "stdout",
     "output_type": "stream",
     "text": [
      "tokens with importance > 0, 43\n"
     ]
    }
   ],
   "source": [
    "# discover error-prone subpopulations\n",
    "drule_obj.extract_token_rule()\n",
    "\n",
    "# calcuate p-value of the error rate in the subpopulation\n",
    "drule_obj.calculate_pval()\n",
    "\n",
    "# calculate 95% confidence interval of the error rate in the subpopulation\n",
    "drule_obj.calculate_ci()"
   ]
  },
  {
   "cell_type": "code",
   "execution_count": 14,
   "metadata": {},
   "outputs": [
    {
     "data": {
      "text/plain": [
       "108"
      ]
     },
     "execution_count": 14,
     "metadata": {},
     "output_type": "execute_result"
    }
   ],
   "source": [
    "len(drule_obj.rules)"
   ]
  },
  {
   "cell_type": "code",
   "execution_count": 15,
   "metadata": {},
   "outputs": [],
   "source": [
    "def output_rules(to_output, columns, good_cols, good_idx, dataname):\n",
    "    filename = \"./\" + dataname + \"/list.json\"\n",
    "    directory = os.path.dirname(filename)\n",
    "    if not os.path.exists(directory):\n",
    "        os.makedirs(directory)\n",
    "    \n",
    "    with open(filename, 'w') as output:\n",
    "        output.write(json.dumps(to_output))\n",
    "        \n",
    "    filename = \"./\" + dataname + \"/test.json\"\n",
    "    '''get column frequency'''\n",
    "    with open(filename, 'w') as output:\n",
    "        output.write(json.dumps({\n",
    "            'columns': columns,\n",
    "            'good_cols': good_cols,\n",
    "            'good_idx': good_idx,\n",
    "        }))"
   ]
  },
  {
   "cell_type": "code",
   "execution_count": 16,
   "metadata": {},
   "outputs": [],
   "source": [
    "def generate_histogram(rule_lists):\n",
    "    num_bin = 20\n",
    "        \n",
    "    hist = np.zeros(num_bin)\n",
    "    for rule in rule_lists:\n",
    "        pos_bin = int(np.floor(rule['err_rate'] * num_bin))\n",
    "        if (pos_bin==num_bin):\n",
    "            pos_bin = num_bin-1\n",
    "        hist[pos_bin] += 1\n",
    "    return hist\n",
    "    \n",
    "\n",
    "to_output = {'rule_lists': drule_obj.rules, 'target_names': ['correct', 'errors'], \"top_list\": drule_obj.top_token_list}\n",
    "hist = generate_histogram(drule_obj.rules)\n",
    "good_cols = [input_columns[x] for x in drule_obj.good_token_idx]\n",
    "\n",
    "to_output['histogram'] = hist.tolist()\n",
    "\n",
    "output_rules(to_output, input_columns, good_cols, drule_obj.good_token_idx.tolist(), 'mnli_government_travel_binary')"
   ]
  }
 ],
 "metadata": {
  "kernelspec": {
   "display_name": "Python 3",
   "language": "python",
   "name": "python3"
  },
  "language_info": {
   "codemirror_mode": {
    "name": "ipython",
    "version": 3
   },
   "file_extension": ".py",
   "mimetype": "text/x-python",
   "name": "python",
   "nbconvert_exporter": "python",
   "pygments_lexer": "ipython3",
   "version": "3.8.3"
  }
 },
 "nbformat": 4,
 "nbformat_minor": 5
}
